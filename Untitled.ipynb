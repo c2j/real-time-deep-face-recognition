{
 "cells": [
  {
   "cell_type": "code",
   "execution_count": 9,
   "metadata": {},
   "outputs": [],
   "source": [
    "from __future__ import absolute_import\n",
    "from __future__ import division\n",
    "from __future__ import print_function\n",
    "\n",
    "from scipy import misc\n",
    "import sys\n",
    "import os\n",
    "import argparse\n",
    "import tensorflow as tf\n",
    "import numpy as np\n",
    "import facenet\n",
    "import detect_face\n",
    "import random\n",
    "from time import sleep\n",
    "\n",
    "output_dir_path = 'out_faces/'\n",
    "output_dir = os.path.expanduser(output_dir_path)\n",
    "if not os.path.exists(output_dir):\n",
    "        os.makedirs(output_dir)\n",
    "\n",
    "datadir = 'in_faces/'\n",
    "dataset = facenet.get_dataset(datadir)\n"
   ]
  },
  {
   "cell_type": "code",
   "execution_count": 4,
   "metadata": {},
   "outputs": [
    {
     "name": "stderr",
     "output_type": "stream",
     "text": [
      "WARNING: Logging before flag parsing goes to stderr.\n",
      "W0726 19:59:15.067018 4571530688 deprecation_wrapper.py:119] From /Users/c2j/Projects/face/real-time-deep-face-recognition/detect_face.py:280: The name tf.variable_scope is deprecated. Please use tf.compat.v1.variable_scope instead.\n",
      "\n",
      "W0726 19:59:15.068058 4571530688 deprecation_wrapper.py:119] From /Users/c2j/Projects/face/real-time-deep-face-recognition/detect_face.py:281: The name tf.placeholder is deprecated. Please use tf.compat.v1.placeholder instead.\n",
      "\n",
      "W0726 19:59:15.073749 4571530688 deprecation_wrapper.py:119] From /Users/c2j/Projects/face/real-time-deep-face-recognition/detect_face.py:125: The name tf.get_variable is deprecated. Please use tf.compat.v1.get_variable instead.\n",
      "\n",
      "W0726 19:59:15.075145 4571530688 deprecation.py:506] From /anaconda3/lib/python3.6/site-packages/tensorflow/python/ops/init_ops.py:1251: calling VarianceScaling.__init__ (from tensorflow.python.ops.init_ops) with dtype is deprecated and will be removed in a future version.\n",
      "Instructions for updating:\n",
      "Call initializer instance with the dtype argument instead of passing it to the constructor\n",
      "W0726 19:59:15.110430 4571530688 deprecation_wrapper.py:119] From /Users/c2j/Projects/face/real-time-deep-face-recognition/detect_face.py:177: The name tf.nn.max_pool is deprecated. Please use tf.nn.max_pool2d instead.\n",
      "\n",
      "W0726 19:59:15.173166 4571530688 deprecation.py:506] From /Users/c2j/Projects/face/real-time-deep-face-recognition/detect_face.py:210: calling reduce_max_v1 (from tensorflow.python.ops.math_ops) with keep_dims is deprecated and will be removed in a future version.\n",
      "Instructions for updating:\n",
      "keep_dims is deprecated, use keepdims instead\n",
      "W0726 19:59:15.177278 4571530688 deprecation.py:506] From /Users/c2j/Projects/face/real-time-deep-face-recognition/detect_face.py:212: calling reduce_sum_v1 (from tensorflow.python.ops.math_ops) with keep_dims is deprecated and will be removed in a future version.\n",
      "Instructions for updating:\n",
      "keep_dims is deprecated, use keepdims instead\n",
      "W0726 19:59:15.180246 4571530688 deprecation.py:323] From /Users/c2j/Projects/face/real-time-deep-face-recognition/detect_face.py:213: div (from tensorflow.python.ops.math_ops) is deprecated and will be removed in a future version.\n",
      "Instructions for updating:\n",
      "Deprecated in favor of operator or tf.math.divide.\n"
     ]
    },
    {
     "name": "stdout",
     "output_type": "stream",
     "text": [
      "Creating networks and loading parameters\n"
     ]
    },
    {
     "name": "stderr",
     "output_type": "stream",
     "text": [
      "W0726 19:59:15.402744 4571530688 deprecation_wrapper.py:119] From /Users/c2j/Projects/face/real-time-deep-face-recognition/detect_face.py:197: The name tf.nn.xw_plus_b is deprecated. Please use tf.compat.v1.nn.xw_plus_b instead.\n",
      "\n"
     ]
    },
    {
     "name": "stdout",
     "output_type": "stream",
     "text": [
      "Goodluck\n"
     ]
    }
   ],
   "source": [
    "print('Creating networks and loading parameters')\n",
    "with tf.Graph().as_default():\n",
    "    #gpu_options = tf.GPUOptions(per_process_gpu_memory_fraction=0.5)\n",
    "    #sess = tf.Session(config=tf.ConfigProto(gpu_options=gpu_options, log_device_placement=False))\n",
    "    sess = tf.Session(config=tf.ConfigProto( log_device_placement=False))\n",
    "    with sess.as_default():\n",
    "        pnet, rnet, onet = detect_face.create_mtcnn(sess, '../facenet/src/align')\n",
    "\n",
    "minsize = 20  # minimum size of face\n",
    "threshold = [0.6, 0.7, 0.7]  # three steps's threshold\n",
    "factor = 0.709  # scale factor\n",
    "margin = 44\n",
    "image_size = 182\n",
    "\n",
    "# Add a random key to the filename to allow alignment using multiple processes\n",
    "random_key = np.random.randint(0, high=99999)\n",
    "bounding_boxes_filename = os.path.join(output_dir, 'bounding_boxes_%05d.txt' % random_key)\n",
    "print('Goodluck')\n"
   ]
  },
  {
   "cell_type": "code",
   "execution_count": 10,
   "metadata": {},
   "outputs": [
    {
     "name": "stdout",
     "output_type": "stream",
     "text": [
      ".DS_Store, 0 images []\n",
      "images, 4 images ['in_faces/images/Anthony_Hopkins_0001.jpg', 'in_faces/images/Anthony_Hopkins_0002.jpg', 'in_faces/images/1_face.png', 'in_faces/images/1face.png']\n",
      "in_faces/images/Anthony_Hopkins_0001.jpg\n",
      "read data dimension:  3\n",
      "after data dimension:  3\n"
     ]
    },
    {
     "name": "stderr",
     "output_type": "stream",
     "text": [
      "/anaconda3/lib/python3.6/site-packages/ipykernel_launcher.py:16: DeprecationWarning: `imread` is deprecated!\n",
      "`imread` is deprecated in SciPy 1.0.0, and will be removed in 1.2.0.\n",
      "Use ``imageio.imread`` instead.\n",
      "  app.launch_new_instance()\n"
     ]
    },
    {
     "name": "stdout",
     "output_type": "stream",
     "text": [
      "detected_face: 1\n",
      "in_faces/images/Anthony_Hopkins_0002.jpg\n",
      "read data dimension:  3\n",
      "after data dimension:  3\n",
      "detected_face: 1\n",
      "in_faces/images/1_face.png\n"
     ]
    },
    {
     "name": "stderr",
     "output_type": "stream",
     "text": [
      "/anaconda3/lib/python3.6/site-packages/ipykernel_launcher.py:55: DeprecationWarning: `imresize` is deprecated!\n",
      "`imresize` is deprecated in SciPy 1.0.0, and will be removed in 1.2.0.\n",
      "Use ``skimage.transform.resize`` instead.\n",
      "/anaconda3/lib/python3.6/site-packages/ipykernel_launcher.py:58: DeprecationWarning: `imsave` is deprecated!\n",
      "`imsave` is deprecated in SciPy 1.0.0, and will be removed in 1.2.0.\n",
      "Use ``imageio.imwrite`` instead.\n"
     ]
    },
    {
     "name": "stdout",
     "output_type": "stream",
     "text": [
      "read data dimension:  3\n",
      "after data dimension:  3\n",
      "detected_face: 1\n",
      "in_faces/images/1face.png\n",
      "read data dimension:  3\n",
      "after data dimension:  3\n",
      "detected_face: 7\n",
      "Total number of images: 4\n",
      "Number of successfully aligned images: 4\n"
     ]
    }
   ],
   "source": [
    "with open(bounding_boxes_filename, \"w\") as text_file:\n",
    "    nrof_images_total = 0\n",
    "    nrof_successfully_aligned = 0\n",
    "    for cls in dataset:\n",
    "        output_class_dir = os.path.join(output_dir, cls.name)\n",
    "        if not os.path.exists(output_class_dir):\n",
    "            os.makedirs(output_class_dir)\n",
    "        print(cls, cls.image_paths)    \n",
    "        for image_path in cls.image_paths:\n",
    "            nrof_images_total += 1\n",
    "            filename = os.path.splitext(os.path.split(image_path)[1])[0]\n",
    "            output_filename = os.path.join(output_class_dir, filename + '.png')\n",
    "            print(image_path)\n",
    "            if not os.path.exists(output_filename):\n",
    "                try:\n",
    "                    img = misc.imread(image_path)\n",
    "                    print('read data dimension: ', img.ndim)\n",
    "                except (IOError, ValueError, IndexError) as e:\n",
    "                    errorMessage = '{}: {}'.format(image_path, e)\n",
    "                    print(errorMessage)\n",
    "                else:\n",
    "                    if img.ndim < 2:\n",
    "                        print('Unable to align \"%s\"' % image_path)\n",
    "                        text_file.write('%s\\n' % (output_filename))\n",
    "                        continue\n",
    "                    if img.ndim == 2:\n",
    "                        img = facenet.to_rgb(img)\n",
    "                        print('to_rgb data dimension: ', img.ndim)\n",
    "                    img = img[:, :, 0:3]\n",
    "                    print('after data dimension: ', img.ndim)\n",
    "\n",
    "                    bounding_boxes, _ = detect_face.detect_face(img, minsize, pnet, rnet, onet, threshold, factor)\n",
    "                    nrof_faces = bounding_boxes.shape[0]\n",
    "                    print('detected_face: %d' % nrof_faces)\n",
    "                    if nrof_faces > 0:\n",
    "                        det = bounding_boxes[:, 0:4]\n",
    "                        img_size = np.asarray(img.shape)[0:2]\n",
    "                        if nrof_faces > 1:\n",
    "                            bounding_box_size = (det[:, 2] - det[:, 0]) * (det[:, 3] - det[:, 1])\n",
    "                            img_center = img_size / 2\n",
    "                            offsets = np.vstack([(det[:, 0] + det[:, 2]) / 2 - img_center[1],\n",
    "                                                 (det[:, 1] + det[:, 3]) / 2 - img_center[0]])\n",
    "                            offset_dist_squared = np.sum(np.power(offsets, 2.0), 0)\n",
    "                            index = np.argmax(bounding_box_size - offset_dist_squared * 2.0)  # some extra weight on the centering\n",
    "                            det = det[index, :]\n",
    "                        det = np.squeeze(det)\n",
    "                        bb_temp = np.zeros(4, dtype=np.int32)\n",
    "\n",
    "                        bb_temp[0] = det[0]\n",
    "                        bb_temp[1] = det[1]\n",
    "                        bb_temp[2] = det[2]\n",
    "                        bb_temp[3] = det[3]\n",
    "\n",
    "                        cropped_temp = img[bb_temp[1]:bb_temp[3], bb_temp[0]:bb_temp[2], :]\n",
    "                        scaled_temp = misc.imresize(cropped_temp, (image_size, image_size), interp='bilinear')\n",
    "\n",
    "                        nrof_successfully_aligned += 1\n",
    "                        misc.imsave(output_filename, scaled_temp)\n",
    "                        text_file.write('%s %d %d %d %d\\n' % (output_filename, bb_temp[0], bb_temp[1], bb_temp[2], bb_temp[3]))\n",
    "                    else:\n",
    "                        print('Unable to align \"%s\"' % image_path)\n",
    "                        text_file.write('%s\\n' % (output_filename))\n",
    "\n",
    "print('Total number of images: %d' % nrof_images_total)\n",
    "print('Number of successfully aligned images: %d' % nrof_successfully_aligned)\n",
    "\n"
   ]
  },
  {
   "cell_type": "code",
   "execution_count": null,
   "metadata": {},
   "outputs": [],
   "source": []
  }
 ],
 "metadata": {
  "kernelspec": {
   "display_name": "Python 3",
   "language": "python",
   "name": "python3"
  },
  "language_info": {
   "codemirror_mode": {
    "name": "ipython",
    "version": 3
   },
   "file_extension": ".py",
   "mimetype": "text/x-python",
   "name": "python",
   "nbconvert_exporter": "python",
   "pygments_lexer": "ipython3",
   "version": "3.6.5"
  }
 },
 "nbformat": 4,
 "nbformat_minor": 2
}
